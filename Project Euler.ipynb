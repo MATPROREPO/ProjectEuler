{
 "cells": [
  {
   "cell_type": "code",
   "execution_count": 1,
   "metadata": {},
   "outputs": [
    {
     "data": {
      "text/plain": [
       "233168"
      ]
     },
     "execution_count": 1,
     "metadata": {},
     "output_type": "execute_result"
    }
   ],
   "source": [
    "##Q1: sum of all numbers below 1,000 that are a multiple of 3 or 5\n",
    "t = 0\n",
    "for i in range(1,1000):\n",
    "    if i%3 == 0 or i%5 == 0:\n",
    "        t = t + i\n",
    "t"
   ]
  },
  {
   "cell_type": "code",
   "execution_count": 2,
   "metadata": {},
   "outputs": [
    {
     "data": {
      "text/plain": [
       "4613732"
      ]
     },
     "execution_count": 2,
     "metadata": {},
     "output_type": "execute_result"
    }
   ],
   "source": [
    "##Q2: sum of all even fibonnaci numbers less than 4M\n",
    "mx = 4000000\n",
    "t = 0\n",
    "fib = [0,1]\n",
    "while fib[len(fib) - 1] < mx:\n",
    "    fib.append(fib[len(fib) - 2] + fib[len(fib) - 1])\n",
    "for i in fib:\n",
    "    if i%2 == 0:\n",
    "        t = t + i"
   ]
  },
  {
   "cell_type": "code",
   "execution_count": 5,
   "metadata": {},
   "outputs": [
    {
     "name": "stdout",
     "output_type": "stream",
     "text": [
      "6857\n"
     ]
    }
   ],
   "source": [
    "##Q3: largest prime factor of 600,851,475,143\n",
    "\n",
    "##Sieve of Eratosthenes\n",
    "## https://en.wikipedia.org/wiki/Sieve_of_Eratosthenes\n",
    "## May not be applicable in this case given the volume of numbers (10^12)\n",
    "\n",
    "#Asking for the largest prime factor is similar to asking for the smallest;\n",
    "#In order to have a large prime factor it has to be accompanied by smaller ones\n",
    "#Therefore search amongst the smallest for the largest?\n",
    "#Regardless, maximum prime factor would have to be greater than n^0.5\n",
    "\n",
    "#More efficient method might be to, once a prime factor of N is found, to then look for prime factors of the remainder\n",
    "\n",
    "\n",
    "#Obtain all primes less than half of our target variable\n",
    "n = 600851475143\n",
    "primeArray = [2]\n",
    "primeFactors = [1]\n",
    "i = 0\n",
    "nx = n\n",
    "while primeArray[len(primeArray)-1] < nx:\n",
    "    isPrime = 0\n",
    "    t = primeArray[i]\n",
    "    while isPrime == 0:\n",
    "        t = t + 1\n",
    "        isPrime = 1\n",
    "        if t > 10 and (t - 0.1 * t) in [0,2,4,5,6,8]: \n",
    "            isPrime = 0\n",
    "        else:\n",
    "            for j in range(len(primeArray)):\n",
    "                if t%primeArray[j] == 0: \n",
    "                    isPrime = 0\n",
    "                    break\n",
    "    primeArray.append(t)\n",
    "    i = i + 1\n",
    "    while nx%primeArray[i] == 0:\n",
    "        nx = nx / primeArray[i]\n",
    "        primeFactors.append(primeArray[i])\n",
    "    \n",
    "print(primeFactors[len(primeFactors)-1])\n"
   ]
  },
  {
   "cell_type": "code",
   "execution_count": 61,
   "metadata": {},
   "outputs": [
    {
     "name": "stdout",
     "output_type": "stream",
     "text": [
      "906609\n"
     ]
    }
   ],
   "source": [
    "#Q4: Largest palindrome from product of two 3-digit numbers\n",
    "#A whole lot of unecessary testing here... should start with the largest numbers and then move backwards\n",
    "#Maybe generate sorted array of all numbers that are the product of two three digit numbers?\n",
    "mx = 0\n",
    "for i in range(1000):\n",
    "    for j in range(1000):\n",
    "        #print(str(i) + ',' + str(j) + ',' + str(k))\n",
    "        x = i * j\n",
    "        xs = str(x)\n",
    "        isPalindrome = 1\n",
    "        for k in range(int(len(xs)*0.5)):\n",
    "            if xs[k] != xs[len(xs)-1-k]:\n",
    "                isPalindrome = 0\n",
    "        if (isPalindrome == 1) * (x > mx):\n",
    "            mx = x\n",
    "print(mx)"
   ]
  },
  {
   "cell_type": "code",
   "execution_count": 75,
   "metadata": {},
   "outputs": [
    {
     "name": "stdout",
     "output_type": "stream",
     "text": [
      "232792560\n"
     ]
    }
   ],
   "source": [
    "#Q5: Smallest number evenly divisible by {1,2,...,19,20}\n",
    "#Need to incorporate vectorized operations to improve runtime here...\n",
    "#Can also try to reduce number to combinations of prime factorizations\n",
    "n = 20\n",
    "nx = 1\n",
    "for i in range(1,n+1):\n",
    "    nx = nx * i\n",
    "\n",
    "for i in range(n,nx+1):\n",
    "    isDivis = 1\n",
    "    for j in range(1,n+1):\n",
    "        if i%j != 0:\n",
    "            isDivis = 0\n",
    "            break\n",
    "    if isDivis == 1:\n",
    "        x = i\n",
    "        break\n",
    "print(x)"
   ]
  },
  {
   "cell_type": "code",
   "execution_count": 88,
   "metadata": {},
   "outputs": [
    {
     "name": "stdout",
     "output_type": "stream",
     "text": [
      "-24174150\n"
     ]
    }
   ],
   "source": [
    "#Q6: Difference between sum of squares of first 100 natural numbers and square of sum\n",
    "n = 100\n",
    "s = 0\n",
    "p = 0\n",
    "for i in range(n):\n",
    "    p = p + i ** 2\n",
    "    s = s + i\n",
    "s = s ** 2\n",
    "print(p - s)"
   ]
  },
  {
   "cell_type": "code",
   "execution_count": 43,
   "metadata": {},
   "outputs": [
    {
     "name": "stdout",
     "output_type": "stream",
     "text": [
      "104743\n"
     ]
    }
   ],
   "source": [
    "#Q7: 10001st prime number \n",
    "n = 10001\n",
    "primeArray = [2]\n",
    "for i in range(n):\n",
    "    isPrime = 0\n",
    "    t = primeArray[i]\n",
    "    while isPrime == 0:\n",
    "        t = t + 1\n",
    "        isPrime = 1\n",
    "        for j in range(2, int(t / 2) + 1):\n",
    "            if t % j == 0: \n",
    "                isPrime = 0\n",
    "                break\n",
    "    primeArray.append(t)\n",
    "\n",
    "print(primeArray[n - 1])"
   ]
  },
  {
   "cell_type": "code",
   "execution_count": 42,
   "metadata": {},
   "outputs": [
    {
     "name": "stdout",
     "output_type": "stream",
     "text": [
      "23514624000\n"
     ]
    }
   ],
   "source": [
    "#Q8: Largest product of thirteen adjacent digits of n\n",
    "\n",
    "n = ('73167176531330624919225119674426574742355349194934'\n",
    "'96983520312774506326239578318016984801869478851843'\n",
    "'85861560789112949495459501737958331952853208805511'\n",
    "'12540698747158523863050715693290963295227443043557'\n",
    "'66896648950445244523161731856403098711121722383113'\n",
    "'62229893423380308135336276614282806444486645238749'\n",
    "'30358907296290491560440772390713810515859307960866'\n",
    "'70172427121883998797908792274921901699720888093776'\n",
    "'65727333001053367881220235421809751254540594752243'\n",
    "'52584907711670556013604839586446706324415722155397'\n",
    "'53697817977846174064955149290862569321978468622482'\n",
    "'83972241375657056057490261407972968652414535100474'\n",
    "'82166370484403199890008895243450658541227588666881'\n",
    "'16427171479924442928230863465674813919123162824586'\n",
    "'17866458359124566529476545682848912883142607690042'\n",
    "'24219022671055626321111109370544217506941658960408'\n",
    "'07198403850962455444362981230987879927244284909188'\n",
    "'84580156166097919133875499200524063689912560717606'\n",
    "'05886116467109405077541002256983155200055935729725'\n",
    "'71636269561882670428252483600823257530420752963450')\n",
    "mx = 0\n",
    "for i in range(len(n) - 13):\n",
    "    ns = n[i:i+13]\n",
    "    x = 1\n",
    "    for j in range(13):\n",
    "        x = x * int(ns[j])\n",
    "    if x > mx: mx = x\n",
    "print(mx)"
   ]
  },
  {
   "cell_type": "code",
   "execution_count": 41,
   "metadata": {},
   "outputs": [
    {
     "name": "stdout",
     "output_type": "stream",
     "text": [
      "200 * 375 * 425 = 31875000\n"
     ]
    }
   ],
   "source": [
    "#Q9: Find product abc such that a^2 + b^2 = c^2 and a + b + c = 1000\n",
    "isFound = 0\n",
    "for a in range(1,1000):\n",
    "    for b in range(1,1000):\n",
    "        c = 1000 - a - b\n",
    "        if (a**2 + b**2 == c**2):\n",
    "            isFound = 1\n",
    "            print(str(a) + ' * ' + str(b) + ' * ' + str(c) + ' = ' + str(a*b*c))\n",
    "            break\n",
    "    if isFound == 1: break\n",
    "    \n",
    "            "
   ]
  },
  {
   "cell_type": "code",
   "execution_count": 37,
   "metadata": {},
   "outputs": [
    {
     "name": "stdout",
     "output_type": "stream",
     "text": [
      "7927\n",
      "17393\n",
      "27457\n",
      "37831\n",
      "48619\n",
      "59369\n",
      "70663\n",
      "81817\n",
      "93187\n",
      "454396537\n"
     ]
    }
   ],
   "source": [
    "#Q10: Find the sum of all primes below 2 million\n",
    "\n",
    "##Sieve method?\n",
    "n = 100000\n",
    "primeArray = [2]\n",
    "i = 0\n",
    "while primeArray[len(primeArray)-1] < n:\n",
    "    isPrime = 0\n",
    "    t = primeArray[i]\n",
    "    while isPrime == 0:\n",
    "        t = t + 1\n",
    "        isPrime = 1\n",
    "        if t > 10 and (t - 0.1 * t) in [0,2,4,5,6,8]: \n",
    "            isPrime = 0\n",
    "        else:\n",
    "            for j in range(len(primeArray)):\n",
    "                if t%primeArray[j] == 0: \n",
    "                    isPrime = 0\n",
    "                    break\n",
    "    primeArray.append(t)\n",
    "    i = i + 1\n",
    "    if i % 1000 == 0: print(primeArray[i])\n",
    "\n",
    "ps = 0\n",
    "for i in range(len(primeArray) - 1):\n",
    "    ps = ps + primeArray[i]\n",
    "print(ps)"
   ]
  },
  {
   "cell_type": "code",
   "execution_count": 40,
   "metadata": {},
   "outputs": [
    {
     "name": "stdout",
     "output_type": "stream",
     "text": [
      "455296054\n"
     ]
    }
   ],
   "source": [
    "#not sure if this is actually any faster...\n",
    "n = 100000\n",
    "sieve = [1] * (n + 1)\n",
    "sieve[0] = 0\n",
    "sieve[1] = 0\n",
    "primeArray = []\n",
    "\n",
    "i = 0\n",
    "for i in range(n):\n",
    "    if sieve[i] == 1:\n",
    "        isPrime == 1\n",
    "        for j in range(len(primeArray) - 1):\n",
    "            if i % primeArray[j] == 0: isPrime == 0\n",
    "        sieve[i] = isPrime\n",
    "        if sieve[i] == 1:\n",
    "            primeArray.append(i)\n",
    "            for j in range(2,int(n / i)):\n",
    "                sieve[j * i] = 0\n",
    "\n",
    "tot = 0\n",
    "for i in range(n):\n",
    "    tot = tot + sieve[i] * (i)\n",
    "    #print(sieve[i] * (i+1))\n",
    "print(tot)\n",
    "\n",
    "#print(tot)"
   ]
  },
  {
   "cell_type": "code",
   "execution_count": 39,
   "metadata": {},
   "outputs": [
    {
     "name": "stdout",
     "output_type": "stream",
     "text": [
      "[12,6, diag RU], 811502\n"
     ]
    }
   ],
   "source": [
    "#Q11: Greatest product of four adjacent numbers (up/down, left/right, diagonally)\n",
    "#Definite redundancy in the diagonals check... oh well!\n",
    "\n",
    "m = [['08','02','22','97','38','15','00','40','00','75','04','05','07','78','52','12','50','77','91','08'],\n",
    "['49','49','99','40','17','81','18','57','60','87','17','40','98','43','69','48','04','56','62','00'],\n",
    "['81','49','31','73','55','79','14','29','93','71','40','67','53','88','30','03','49','13','36','65'],\n",
    "['52','70','95','23','04','60','11','42','69','24','68','56','01','32','56','71','37','02','36','91'],\n",
    "['22','31','16','71','51','67','63','89','41','92','36','54','22','40','40','28','66','33','13','80'],\n",
    "['24','47','32','60','99','03','45','02','44','75','33','53','78','36','84','20','35','17','12','50'],\n",
    "['32','98','81','28','64','23','67','10','26','38','40','67','59','54','70','66','18','38','64','70'],\n",
    "['67','26','20','68','02','62','12','20','95','63','94','39','63','08','40','91','66','49','94','21'],\n",
    "['24','55','58','05','66','73','99','26','97','17','78','78','96','83','14','88','34','89','63','72'],\n",
    "['21','36','23','09','75','00','76','44','20','45','35','14','00','61','33','97','34','31','33','95'],\n",
    "['78','17','53','28','22','75','31','67','15','94','03','80','04','62','16','14','09','53','56','92'],\n",
    "['16','39','05','42','96','35','31','47','55','58','88','24','00','17','54','24','36','29','85','57'],\n",
    "['86','56','00','48','35','71','89','07','05','44','44','37','44','60','21','58','51','54','17','58'],\n",
    "['19','80','81','68','05','94','47','69','28','73','92','13','86','52','17','77','04','89','55','40'],\n",
    "['04','52','08','83','97','35','99','16','07','97','57','32','16','26','26','79','33','27','98','66'],\n",
    "['88','36','68','87','57','62','20','72','03','46','33','67','46','55','12','32','63','93','53','69'],\n",
    "['04','42','16','73','38','25','39','11','24','94','72','18','08','46','29','32','40','62','76','36'],\n",
    "['20','69','36','41','72','30','23','88','34','62','99','69','82','67','59','85','74','04','36','16'],\n",
    "['20','73','35','29','78','31','90','01','74','31','49','71','48','86','81','16','23','57','05','54'],\n",
    "['01','70','54','71','83','51','54','69','16','92','33','48','61','43','52','01','89','19','67','48']]\n",
    "\n",
    "mx = 0\n",
    "for i in range(len(m)):\n",
    "    for j in range(len(m[i])):\n",
    "        #Horizontal\n",
    "        if j < len(m[i]) - 3:\n",
    "            x = int(m[i][j]) * int(m[i][j+1]) * int(m[i][j+2])\n",
    "            if x > mx: \n",
    "                mx = x\n",
    "                coords = '[' + str(i) + ',' + str(j) + 'horz' + ']'\n",
    "        #Vertical\n",
    "        if i < len(m) - 3:\n",
    "            x = int(m[i][j]) * int(m[i+1][j]) * int(m[i+2][j])\n",
    "            if x > mx:\n",
    "                mx = x\n",
    "                coords = '[' + str(i) + ',' + str(j) + ', vert' + ']'\n",
    "        #diaonals\n",
    "        #Right and down\n",
    "        if (i < len(m) - 3) * (j < len(m[i]) - 3):\n",
    "            x = int(m[i][j]) * int(m[i+1][j+1]) * int(m[i+2][j+2])\n",
    "            if x > mx:\n",
    "                mx = x\n",
    "                coords = '[' + str(i) + ',' + str(j) + ', diag RD' + ']'\n",
    "        #right and up\n",
    "        if (i < len(m) - 3) * (j > 1):\n",
    "            x = int(m[i][j]) * int(m[i+1][j-1]) * int(m[i+2][j-2])\n",
    "            if x > mx:\n",
    "                mx = x\n",
    "                coords = '[' + str(i) + ',' + str(j) + ', diag RU' + ']'\n",
    "        #left and down\n",
    "        if (i > 1) * (j < len(m[i]) - 3):\n",
    "            x = int(m[i][j]) * int(m[i-1][j+1]) * int(m[i-2][j+2])\n",
    "            if x > mx:\n",
    "                mx = x\n",
    "                coords = '[' + str(i) + ',' + str(j) + ', diag LD' + ']'\n",
    "        #left and up\n",
    "        if (i > 1) * (j > 1):\n",
    "            x = int(m[i][j]) * int(m[i-1][j-1]) * int(m[i-2][j-2])\n",
    "            if x > mx:\n",
    "                mx = x\n",
    "                coords = '[' + str(i) + ',' + str(j) + ', diag LU' + ']'\n",
    "\n",
    "print(coords + ', ' + str(mx))\n",
    "                               \n",
    "                               "
   ]
  },
  {
   "cell_type": "code",
   "execution_count": null,
   "metadata": {},
   "outputs": [],
   "source": []
  }
 ],
 "metadata": {
  "kernelspec": {
   "display_name": "Python 3",
   "language": "python",
   "name": "python3"
  },
  "language_info": {
   "codemirror_mode": {
    "name": "ipython",
    "version": 3
   },
   "file_extension": ".py",
   "mimetype": "text/x-python",
   "name": "python",
   "nbconvert_exporter": "python",
   "pygments_lexer": "ipython3",
   "version": "3.7.3"
  }
 },
 "nbformat": 4,
 "nbformat_minor": 4
}
