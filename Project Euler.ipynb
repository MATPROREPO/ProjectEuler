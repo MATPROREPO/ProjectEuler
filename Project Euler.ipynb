{
 "cells": [
  {
   "cell_type": "code",
   "execution_count": 1,
   "metadata": {},
   "outputs": [
    {
     "data": {
      "text/plain": [
       "233168"
      ]
     },
     "execution_count": 1,
     "metadata": {},
     "output_type": "execute_result"
    }
   ],
   "source": [
    "##Q1: sum of all numbers below 1,000 that are a multiple of 3 or 5\n",
    "t = 0\n",
    "for i in range(1,1000):\n",
    "    if i%3 == 0 or i%5 == 0:\n",
    "        t = t + i\n",
    "t"
   ]
  },
  {
   "cell_type": "code",
   "execution_count": 2,
   "metadata": {},
   "outputs": [
    {
     "data": {
      "text/plain": [
       "4613732"
      ]
     },
     "execution_count": 2,
     "metadata": {},
     "output_type": "execute_result"
    }
   ],
   "source": [
    "##Q2: sum of all even fibonnaci numbers less than 4M\n",
    "mx = 4000000\n",
    "t = 0\n",
    "fib = [0,1]\n",
    "while fib[len(fib) - 1] < mx:\n",
    "    fib.append(fib[len(fib) - 2] + fib[len(fib) - 1])\n",
    "for i in fib:\n",
    "    if i%2 == 0:\n",
    "        t = t + i"
   ]
  },
  {
   "cell_type": "code",
   "execution_count": 5,
   "metadata": {},
   "outputs": [
    {
     "name": "stdout",
     "output_type": "stream",
     "text": [
      "6857\n"
     ]
    }
   ],
   "source": [
    "##Q3: largest prime factor of 600,851,475,143\n",
    "\n",
    "##Sieve of Eratosthenes\n",
    "## https://en.wikipedia.org/wiki/Sieve_of_Eratosthenes\n",
    "## May not be applicable in this case given the volume of numbers (10^12)\n",
    "\n",
    "#Asking for the largest prime factor is similar to asking for the smallest;\n",
    "#In order to have a large prime factor it has to be accompanied by smaller ones\n",
    "#Therefore search amongst the smallest for the largest?\n",
    "#Regardless, maximum prime factor would have to be greater than n^0.5\n",
    "\n",
    "#More efficient method might be to, once a prime factor of N is found, to then look for prime factors of the remainder\n",
    "\n",
    "\n",
    "#Obtain all primes less than half of our target variable\n",
    "n = 600851475143\n",
    "primeArray = [2]\n",
    "primeFactors = [1]\n",
    "i = 0\n",
    "nx = n\n",
    "while primeArray[len(primeArray)-1] < nx:\n",
    "    isPrime = 0\n",
    "    t = primeArray[i]\n",
    "    while isPrime == 0:\n",
    "        t = t + 1\n",
    "        isPrime = 1\n",
    "        if t > 10 and (t - 0.1 * t) in [0,2,4,5,6,8]: \n",
    "            isPrime = 0\n",
    "        else:\n",
    "            for j in range(len(primeArray)):\n",
    "                if t%primeArray[j] == 0: \n",
    "                    isPrime = 0\n",
    "                    break\n",
    "    primeArray.append(t)\n",
    "    i = i + 1\n",
    "    while nx%primeArray[i] == 0:\n",
    "        nx = nx / primeArray[i]\n",
    "        primeFactors.append(primeArray[i])\n",
    "    \n",
    "print(primeFactors[len(primeFactors)-1])\n"
   ]
  },
  {
   "cell_type": "code",
   "execution_count": 61,
   "metadata": {},
   "outputs": [
    {
     "name": "stdout",
     "output_type": "stream",
     "text": [
      "906609\n"
     ]
    }
   ],
   "source": [
    "#Q4: Largest palindrome from product of two 3-digit numbers\n",
    "#A whole lot of unecessary testing here... should start with the largest numbers and then move backwards\n",
    "#Maybe generate sorted array of all numbers that are the product of two three digit numbers?\n",
    "mx = 0\n",
    "for i in range(1000):\n",
    "    for j in range(1000):\n",
    "        #print(str(i) + ',' + str(j) + ',' + str(k))\n",
    "        x = i * j\n",
    "        xs = str(x)\n",
    "        isPalindrome = 1\n",
    "        for k in range(int(len(xs)*0.5)):\n",
    "            if xs[k] != xs[len(xs)-1-k]:\n",
    "                isPalindrome = 0\n",
    "        if (isPalindrome == 1) * (x > mx):\n",
    "            mx = x\n",
    "print(mx)"
   ]
  },
  {
   "cell_type": "code",
   "execution_count": 75,
   "metadata": {},
   "outputs": [
    {
     "name": "stdout",
     "output_type": "stream",
     "text": [
      "232792560\n"
     ]
    }
   ],
   "source": [
    "#Q5: Smallest number evenly divisible by {1,2,...,19,20}\n",
    "#Need to incorporate vectorized operations to improve runtime here...\n",
    "#Can also try to reduce number to combinations of prime factorizations\n",
    "n = 20\n",
    "nx = 1\n",
    "for i in range(1,n+1):\n",
    "    nx = nx * i\n",
    "\n",
    "for i in range(n,nx+1):\n",
    "    isDivis = 1\n",
    "    for j in range(1,n+1):\n",
    "        if i%j != 0:\n",
    "            isDivis = 0\n",
    "            break\n",
    "    if isDivis == 1:\n",
    "        x = i\n",
    "        break\n",
    "print(x)"
   ]
  },
  {
   "cell_type": "code",
   "execution_count": 2,
   "metadata": {},
   "outputs": [
    {
     "name": "stdout",
     "output_type": "stream",
     "text": [
      "25164150\n"
     ]
    }
   ],
   "source": [
    "#Q6: Difference between sum of squares of first 100 natural numbers and square of sum\n",
    "n = 100\n",
    "s = 0\n",
    "p = 0\n",
    "for i in range(n+1):\n",
    "    p = p + i ** 2\n",
    "    s = s + i\n",
    "s = s ** 2\n",
    "print(s - p)"
   ]
  },
  {
   "cell_type": "code",
   "execution_count": 43,
   "metadata": {},
   "outputs": [
    {
     "name": "stdout",
     "output_type": "stream",
     "text": [
      "104743\n"
     ]
    }
   ],
   "source": [
    "#Q7: 10001st prime number \n",
    "n = 10001\n",
    "primeArray = [2]\n",
    "for i in range(n):\n",
    "    isPrime = 0\n",
    "    t = primeArray[i]\n",
    "    while isPrime == 0:\n",
    "        t = t + 1\n",
    "        isPrime = 1\n",
    "        for j in range(2, int(t / 2) + 1):\n",
    "            if t % j == 0: \n",
    "                isPrime = 0\n",
    "                break\n",
    "    primeArray.append(t)\n",
    "\n",
    "print(primeArray[n - 1])"
   ]
  },
  {
   "cell_type": "code",
   "execution_count": 42,
   "metadata": {},
   "outputs": [
    {
     "name": "stdout",
     "output_type": "stream",
     "text": [
      "23514624000\n"
     ]
    }
   ],
   "source": [
    "#Q8: Largest product of thirteen adjacent digits of n\n",
    "\n",
    "n = ('73167176531330624919225119674426574742355349194934'\n",
    "'96983520312774506326239578318016984801869478851843'\n",
    "'85861560789112949495459501737958331952853208805511'\n",
    "'12540698747158523863050715693290963295227443043557'\n",
    "'66896648950445244523161731856403098711121722383113'\n",
    "'62229893423380308135336276614282806444486645238749'\n",
    "'30358907296290491560440772390713810515859307960866'\n",
    "'70172427121883998797908792274921901699720888093776'\n",
    "'65727333001053367881220235421809751254540594752243'\n",
    "'52584907711670556013604839586446706324415722155397'\n",
    "'53697817977846174064955149290862569321978468622482'\n",
    "'83972241375657056057490261407972968652414535100474'\n",
    "'82166370484403199890008895243450658541227588666881'\n",
    "'16427171479924442928230863465674813919123162824586'\n",
    "'17866458359124566529476545682848912883142607690042'\n",
    "'24219022671055626321111109370544217506941658960408'\n",
    "'07198403850962455444362981230987879927244284909188'\n",
    "'84580156166097919133875499200524063689912560717606'\n",
    "'05886116467109405077541002256983155200055935729725'\n",
    "'71636269561882670428252483600823257530420752963450')\n",
    "mx = 0\n",
    "for i in range(len(n) - 13):\n",
    "    ns = n[i:i+13]\n",
    "    x = 1\n",
    "    for j in range(13):\n",
    "        x = x * int(ns[j])\n",
    "    if x > mx: mx = x\n",
    "print(mx)"
   ]
  },
  {
   "cell_type": "code",
   "execution_count": 41,
   "metadata": {},
   "outputs": [
    {
     "name": "stdout",
     "output_type": "stream",
     "text": [
      "200 * 375 * 425 = 31875000\n"
     ]
    }
   ],
   "source": [
    "#Q9: Find product abc such that a^2 + b^2 = c^2 and a + b + c = 1000\n",
    "isFound = 0\n",
    "for a in range(1,1000):\n",
    "    for b in range(1,1000):\n",
    "        c = 1000 - a - b\n",
    "        if (a**2 + b**2 == c**2):\n",
    "            isFound = 1\n",
    "            print(str(a) + ' * ' + str(b) + ' * ' + str(c) + ' = ' + str(a*b*c))\n",
    "            break\n",
    "    if isFound == 1: break\n",
    "    \n",
    "            "
   ]
  },
  {
   "cell_type": "code",
   "execution_count": 3,
   "metadata": {},
   "outputs": [
    {
     "ename": "KeyboardInterrupt",
     "evalue": "",
     "output_type": "error",
     "traceback": [
      "\u001b[1;31m---------------------------------------------------------------------------\u001b[0m",
      "\u001b[1;31mKeyboardInterrupt\u001b[0m                         Traceback (most recent call last)",
      "\u001b[1;32m<ipython-input-3-fbb850b63ac1>\u001b[0m in \u001b[0;36m<module>\u001b[1;34m\u001b[0m\n\u001b[0;32m     14\u001b[0m             \u001b[0misPrime\u001b[0m \u001b[1;33m=\u001b[0m \u001b[1;36m0\u001b[0m\u001b[1;33m\u001b[0m\u001b[1;33m\u001b[0m\u001b[0m\n\u001b[0;32m     15\u001b[0m         \u001b[1;32melse\u001b[0m\u001b[1;33m:\u001b[0m\u001b[1;33m\u001b[0m\u001b[1;33m\u001b[0m\u001b[0m\n\u001b[1;32m---> 16\u001b[1;33m             \u001b[1;32mfor\u001b[0m \u001b[0mj\u001b[0m \u001b[1;32min\u001b[0m \u001b[0mrange\u001b[0m\u001b[1;33m(\u001b[0m\u001b[0mlen\u001b[0m\u001b[1;33m(\u001b[0m\u001b[0mprimeArray\u001b[0m\u001b[1;33m)\u001b[0m\u001b[1;33m)\u001b[0m\u001b[1;33m:\u001b[0m\u001b[1;33m\u001b[0m\u001b[1;33m\u001b[0m\u001b[0m\n\u001b[0m\u001b[0;32m     17\u001b[0m                 \u001b[1;32mif\u001b[0m \u001b[0mt\u001b[0m\u001b[1;33m%\u001b[0m\u001b[0mprimeArray\u001b[0m\u001b[1;33m[\u001b[0m\u001b[0mj\u001b[0m\u001b[1;33m]\u001b[0m \u001b[1;33m==\u001b[0m \u001b[1;36m0\u001b[0m\u001b[1;33m:\u001b[0m\u001b[1;33m\u001b[0m\u001b[1;33m\u001b[0m\u001b[0m\n\u001b[0;32m     18\u001b[0m                     \u001b[0misPrime\u001b[0m \u001b[1;33m=\u001b[0m \u001b[1;36m0\u001b[0m\u001b[1;33m\u001b[0m\u001b[1;33m\u001b[0m\u001b[0m\n",
      "\u001b[1;31mKeyboardInterrupt\u001b[0m: "
     ]
    }
   ],
   "source": [
    "#Q10: Find the sum of all primes below 2 million\n",
    "\n",
    "##Sieve method?\n",
    "n = 2000000\n",
    "primeArray = [2]\n",
    "i = 0\n",
    "while primeArray[len(primeArray)-1] < n:\n",
    "    isPrime = 0\n",
    "    t = primeArray[i]\n",
    "    while isPrime == 0:\n",
    "        t = t + 1\n",
    "        isPrime = 1\n",
    "        if t > 10 and (t - 0.1 * t) in [0,2,4,5,6,8]: \n",
    "            isPrime = 0\n",
    "        else:\n",
    "            for j in range(len(primeArray)):\n",
    "                if t%primeArray[j] == 0: \n",
    "                    isPrime = 0\n",
    "                    break\n",
    "    primeArray.append(t)\n",
    "    i = i + 1\n",
    "\n",
    "ps = 0\n",
    "for i in range(len(primeArray) - 1):\n",
    "    ps = ps + primeArray[i]\n",
    "print(ps)"
   ]
  },
  {
   "cell_type": "code",
   "execution_count": null,
   "metadata": {},
   "outputs": [],
   "source": [
    "#not sure if this is actually any faster...\n",
    "#sieve of eratosthenes\n",
    "n = 2000000\n",
    "sieve = [1] * (n + 1)\n",
    "sieve[0] = 0\n",
    "sieve[1] = 0\n",
    "primeArray = []\n",
    "\n",
    "i = 0\n",
    "for i in range(n):\n",
    "    if sieve[i] == 1:\n",
    "        isPrime == 1\n",
    "        if t > 10 and (t - 0.1 * t) not in [0,2,4,5,6,8]: \n",
    "            for j in range(len(primeArray) - 1):\n",
    "                if i % primeArray[j] == 0: isPrime == 0\n",
    "        sieve[i] = isPrime\n",
    "        if sieve[i] == 1:\n",
    "            primeArray.append(i)\n",
    "            for j in range(2,int(n / i)):\n",
    "                sieve[j * i] = 0\n",
    "\n",
    "tot = 0\n",
    "for i in range(n):\n",
    "    tot = tot + sieve[i] * (i)\n",
    "    #print(sieve[i] * (i+1))\n",
    "print(tot)\n",
    "\n",
    "#print(tot)"
   ]
  },
  {
   "cell_type": "code",
   "execution_count": 8,
   "metadata": {},
   "outputs": [
    {
     "name": "stdout",
     "output_type": "stream",
     "text": [
      "[{12,6}, diag RU], 70600674\n"
     ]
    }
   ],
   "source": [
    "#Q11: Greatest product of four adjacent numbers (up/down, left/right, diagonally)\n",
    "#Definite redundancy in the diagonals check... oh well!  Maybe have two additional for loops that have a 0/1 and +/- oscillation\n",
    "\n",
    "m = [['08','02','22','97','38','15','00','40','00','75','04','05','07','78','52','12','50','77','91','08'],\n",
    "['49','49','99','40','17','81','18','57','60','87','17','40','98','43','69','48','04','56','62','00'],\n",
    "['81','49','31','73','55','79','14','29','93','71','40','67','53','88','30','03','49','13','36','65'],\n",
    "['52','70','95','23','04','60','11','42','69','24','68','56','01','32','56','71','37','02','36','91'],\n",
    "['22','31','16','71','51','67','63','89','41','92','36','54','22','40','40','28','66','33','13','80'],\n",
    "['24','47','32','60','99','03','45','02','44','75','33','53','78','36','84','20','35','17','12','50'],\n",
    "['32','98','81','28','64','23','67','10','26','38','40','67','59','54','70','66','18','38','64','70'],\n",
    "['67','26','20','68','02','62','12','20','95','63','94','39','63','08','40','91','66','49','94','21'],\n",
    "['24','55','58','05','66','73','99','26','97','17','78','78','96','83','14','88','34','89','63','72'],\n",
    "['21','36','23','09','75','00','76','44','20','45','35','14','00','61','33','97','34','31','33','95'],\n",
    "['78','17','53','28','22','75','31','67','15','94','03','80','04','62','16','14','09','53','56','92'],\n",
    "['16','39','05','42','96','35','31','47','55','58','88','24','00','17','54','24','36','29','85','57'],\n",
    "['86','56','00','48','35','71','89','07','05','44','44','37','44','60','21','58','51','54','17','58'],\n",
    "['19','80','81','68','05','94','47','69','28','73','92','13','86','52','17','77','04','89','55','40'],\n",
    "['04','52','08','83','97','35','99','16','07','97','57','32','16','26','26','79','33','27','98','66'],\n",
    "['88','36','68','87','57','62','20','72','03','46','33','67','46','55','12','32','63','93','53','69'],\n",
    "['04','42','16','73','38','25','39','11','24','94','72','18','08','46','29','32','40','62','76','36'],\n",
    "['20','69','36','41','72','30','23','88','34','62','99','69','82','67','59','85','74','04','36','16'],\n",
    "['20','73','35','29','78','31','90','01','74','31','49','71','48','86','81','16','23','57','05','54'],\n",
    "['01','70','54','71','83','51','54','69','16','92','33','48','61','43','52','01','89','19','67','48']]\n",
    "\n",
    "n = 4\n",
    "\n",
    "mx = 0\n",
    "for i in range(len(m)):\n",
    "    for j in range(len(m[i])):\n",
    "        #Horizontal\n",
    "        if j < len(m[i]) - n:\n",
    "            x = 1\n",
    "            for k in range(n): x = x * int(m[i][j+k])\n",
    "            if x > mx: \n",
    "                mx = x\n",
    "                coords = '[{' + str(i) + ',' + str(j) + '}, horz' + ']'\n",
    "        #Vertical\n",
    "        if i < len(m) - n:\n",
    "            x = 1\n",
    "            for k in range(n): x = x * int(m[i+k][j])\n",
    "            if x > mx:\n",
    "                mx = x\n",
    "                coords = '[{' + str(i) + ',' + str(j) + '}, vert' + ']'\n",
    "        #diaonals\n",
    "        #Right and down\n",
    "        if (i < len(m) - n) * (j < len(m[i]) - n):\n",
    "            x = 1\n",
    "            for k in range(n): x = x * int(m[i+k][j+k])\n",
    "            if x > mx:\n",
    "                mx = x\n",
    "                coords = '[{' + str(i) + ',' + str(j) + '}, diag RD' + ']'\n",
    "        #right and up\n",
    "        if (i < len(m) - n) * (j > 1):\n",
    "            x = 1\n",
    "            for k in range(n): x = x * int(m[i+k][j-k])\n",
    "            if x > mx:\n",
    "                mx = x\n",
    "                coords = '[{' + str(i) + ',' + str(j) + '}, diag RU' + ']'\n",
    "        #left and down\n",
    "        if (i > 1) * (j < len(m[i]) - n):\n",
    "            x = 1\n",
    "            for k in range(n): x = x * int(m[i-k][j+k])\n",
    "            if x > mx:\n",
    "                mx = x\n",
    "                coords = '[{' + str(i) + ',' + str(j) + '}, diag LD' + ']'\n",
    "        #left and up\n",
    "        if (i > 1) * (j > 1):\n",
    "            x = 1\n",
    "            for k in range(n): x = x * int(m[i-k][j-k])\n",
    "            if x > mx:\n",
    "                mx = x\n",
    "                coords = '[{' + str(i) + ',' + str(j) + '}, diag LU' + ']'\n",
    "\n",
    "print(coords + ', ' + str(mx))\n",
    "                               \n",
    "                               "
   ]
  },
  {
   "cell_type": "code",
   "execution_count": 18,
   "metadata": {},
   "outputs": [
    {
     "name": "stdout",
     "output_type": "stream",
     "text": [
      "624\n",
      "1375\n"
     ]
    },
    {
     "ename": "KeyboardInterrupt",
     "evalue": "",
     "output_type": "error",
     "traceback": [
      "\u001b[1;31m---------------------------------------------------------------------------\u001b[0m",
      "\u001b[1;31mKeyboardInterrupt\u001b[0m                         Traceback (most recent call last)",
      "\u001b[1;32m<ipython-input-18-4e6c2aa07b0d>\u001b[0m in \u001b[0;36m<module>\u001b[1;34m\u001b[0m\n\u001b[0;32m     12\u001b[0m     \u001b[1;32mif\u001b[0m \u001b[0mx\u001b[0m \u001b[1;33m%\u001b[0m \u001b[1;36m1000\u001b[0m \u001b[1;33m==\u001b[0m \u001b[1;36m0\u001b[0m\u001b[1;33m:\u001b[0m \u001b[0mprint\u001b[0m\u001b[1;33m(\u001b[0m\u001b[0mi\u001b[0m\u001b[1;33m)\u001b[0m\u001b[1;33m\u001b[0m\u001b[1;33m\u001b[0m\u001b[0m\n\u001b[0;32m     13\u001b[0m     \u001b[1;32mfor\u001b[0m \u001b[0mj\u001b[0m \u001b[1;32min\u001b[0m \u001b[0mrange\u001b[0m\u001b[1;33m(\u001b[0m\u001b[0mint\u001b[0m\u001b[1;33m(\u001b[0m\u001b[0mx\u001b[0m \u001b[1;33m*\u001b[0m \u001b[1;36m0.5\u001b[0m\u001b[1;33m)\u001b[0m\u001b[1;33m)\u001b[0m\u001b[1;33m:\u001b[0m\u001b[1;33m\u001b[0m\u001b[1;33m\u001b[0m\u001b[0m\n\u001b[1;32m---> 14\u001b[1;33m         \u001b[1;32mif\u001b[0m \u001b[0mx\u001b[0m \u001b[1;33m%\u001b[0m \u001b[1;33m(\u001b[0m\u001b[0mj\u001b[0m \u001b[1;33m+\u001b[0m \u001b[1;36m1\u001b[0m\u001b[1;33m)\u001b[0m \u001b[1;33m==\u001b[0m \u001b[1;36m0\u001b[0m\u001b[1;33m:\u001b[0m \u001b[0mndiv\u001b[0m \u001b[1;33m=\u001b[0m \u001b[0mndiv\u001b[0m \u001b[1;33m+\u001b[0m \u001b[1;36m1\u001b[0m\u001b[1;33m\u001b[0m\u001b[1;33m\u001b[0m\u001b[0m\n\u001b[0m\u001b[0;32m     15\u001b[0m \u001b[1;33m\u001b[0m\u001b[0m\n\u001b[0;32m     16\u001b[0m \u001b[0mprint\u001b[0m\u001b[1;33m(\u001b[0m\u001b[0mstr\u001b[0m\u001b[1;33m(\u001b[0m\u001b[0mn\u001b[0m\u001b[1;33m)\u001b[0m \u001b[1;33m+\u001b[0m \u001b[1;34m', '\u001b[0m \u001b[1;33m+\u001b[0m \u001b[0mstr\u001b[0m\u001b[1;33m(\u001b[0m\u001b[0mi\u001b[0m\u001b[1;33m)\u001b[0m \u001b[1;33m+\u001b[0m \u001b[1;34m', '\u001b[0m \u001b[1;33m+\u001b[0m \u001b[0mstr\u001b[0m\u001b[1;33m(\u001b[0m\u001b[0mx\u001b[0m\u001b[1;33m)\u001b[0m\u001b[1;33m)\u001b[0m\u001b[1;33m\u001b[0m\u001b[1;33m\u001b[0m\u001b[0m\n",
      "\u001b[1;31mKeyboardInterrupt\u001b[0m: "
     ]
    }
   ],
   "source": [
    "#Q12: What is the value of the first triangle number to have over 500 divisors\n",
    "\n",
    "#Definitely not the most efficient...  repeating divisions performed previously\n",
    "#Slow enough that it doesn't really run...\n",
    "ndiv = 0\n",
    "n = 500\n",
    "i = 0\n",
    "x = i\n",
    "while ndiv < n:\n",
    "    ndiv = 0\n",
    "    i = i + 1\n",
    "    x = x + i\n",
    "    if x % 1000 == 0: print(i)\n",
    "    for j in range(int(x * 0.5)):\n",
    "        if x % (j + 1) == 0: ndiv = ndiv + 1\n",
    "\n",
    "print(str(n) + ', ' + str(i) + ', ' + str(x))"
   ]
  },
  {
   "cell_type": "code",
   "execution_count": 20,
   "metadata": {},
   "outputs": [],
   "source": [
    "#Q13: find the first ten digits of the sum of the following 100 digit numbers\n",
    "m = [['37107287533902102798797998220837590246510135740250']\n",
    ",['46376937677490009712648124896970078050417018260538']\n",
    ",['74324986199524741059474233309513058123726617309629']\n",
    ",['91942213363574161572522430563301811072406154908250']\n",
    ",['23067588207539346171171980310421047513778063246676']\n",
    ",['89261670696623633820136378418383684178734361726757']\n",
    ",['28112879812849979408065481931592621691275889832738']\n",
    ",['44274228917432520321923589422876796487670272189318']\n",
    ",['47451445736001306439091167216856844588711603153276']\n",
    ",['70386486105843025439939619828917593665686757934951']\n",
    ",['62176457141856560629502157223196586755079324193331']\n",
    ",['64906352462741904929101432445813822663347944758178']\n",
    ",['92575867718337217661963751590579239728245598838407']\n",
    ",['58203565325359399008402633568948830189458628227828']\n",
    ",['80181199384826282014278194139940567587151170094390']\n",
    ",['35398664372827112653829987240784473053190104293586']\n",
    ",['86515506006295864861532075273371959191420517255829']\n",
    ",['71693888707715466499115593487603532921714970056938']\n",
    ",['54370070576826684624621495650076471787294438377604']\n",
    ",['53282654108756828443191190634694037855217779295145']\n",
    ",['36123272525000296071075082563815656710885258350721']\n",
    ",['45876576172410976447339110607218265236877223636045']\n",
    ",['17423706905851860660448207621209813287860733969412']\n",
    ",['81142660418086830619328460811191061556940512689692']\n",
    ",['51934325451728388641918047049293215058642563049483']\n",
    ",['62467221648435076201727918039944693004732956340691']\n",
    ",['15732444386908125794514089057706229429197107928209']\n",
    ",['55037687525678773091862540744969844508330393682126']\n",
    ",['18336384825330154686196124348767681297534375946515']\n",
    ",['80386287592878490201521685554828717201219257766954']\n",
    ",['78182833757993103614740356856449095527097864797581']\n",
    ",['16726320100436897842553539920931837441497806860984']\n",
    ",['48403098129077791799088218795327364475675590848030']\n",
    ",['87086987551392711854517078544161852424320693150332']\n",
    ",['59959406895756536782107074926966537676326235447210']\n",
    ",['69793950679652694742597709739166693763042633987085']\n",
    ",['41052684708299085211399427365734116182760315001271']\n",
    ",['65378607361501080857009149939512557028198746004375']\n",
    ",['35829035317434717326932123578154982629742552737307']\n",
    ",['94953759765105305946966067683156574377167401875275']\n",
    ",['88902802571733229619176668713819931811048770190271']\n",
    ",['25267680276078003013678680992525463401061632866526']\n",
    ",['36270218540497705585629946580636237993140746255962']\n",
    ",['24074486908231174977792365466257246923322810917141']\n",
    ",['91430288197103288597806669760892938638285025333403']\n",
    ",['34413065578016127815921815005561868836468420090470']\n",
    ",['23053081172816430487623791969842487255036638784583']\n",
    ",['11487696932154902810424020138335124462181441773470']\n",
    ",['63783299490636259666498587618221225225512486764533']\n",
    ",['67720186971698544312419572409913959008952310058822']\n",
    ",['95548255300263520781532296796249481641953868218774']\n",
    ",['76085327132285723110424803456124867697064507995236']\n",
    ",['37774242535411291684276865538926205024910326572967']\n",
    ",['23701913275725675285653248258265463092207058596522']\n",
    ",['29798860272258331913126375147341994889534765745501']\n",
    ",['18495701454879288984856827726077713721403798879715']\n",
    ",['38298203783031473527721580348144513491373226651381']\n",
    ",['34829543829199918180278916522431027392251122869539']\n",
    ",['40957953066405232632538044100059654939159879593635']\n",
    ",['29746152185502371307642255121183693803580388584903']\n",
    ",['41698116222072977186158236678424689157993532961922']\n",
    ",['62467957194401269043877107275048102390895523597457']\n",
    ",['23189706772547915061505504953922979530901129967519']\n",
    ",['86188088225875314529584099251203829009407770775672']\n",
    ",['11306739708304724483816533873502340845647058077308']\n",
    ",['82959174767140363198008187129011875491310547126581']\n",
    ",['97623331044818386269515456334926366572897563400500']\n",
    ",['42846280183517070527831839425882145521227251250327']\n",
    ",['55121603546981200581762165212827652751691296897789']\n",
    ",['32238195734329339946437501907836945765883352399886']\n",
    ",['75506164965184775180738168837861091527357929701337']\n",
    ",['62177842752192623401942399639168044983993173312731']\n",
    ",['32924185707147349566916674687634660915035914677504']\n",
    ",['99518671430235219628894890102423325116913619626622']\n",
    ",['73267460800591547471830798392868535206946944540724']\n",
    ",['76841822524674417161514036427982273348055556214818']\n",
    ",['97142617910342598647204516893989422179826088076852']\n",
    ",['87783646182799346313767754307809363333018982642090']\n",
    ",['10848802521674670883215120185883543223812876952786']\n",
    ",['71329612474782464538636993009049310363619763878039']\n",
    ",['62184073572399794223406235393808339651327408011116']\n",
    ",['66627891981488087797941876876144230030984490851411']\n",
    ",['60661826293682836764744779239180335110989069790714']\n",
    ",['85786944089552990653640447425576083659976645795096']\n",
    ",['66024396409905389607120198219976047599490197230297']\n",
    ",['64913982680032973156037120041377903785566085089252']\n",
    ",['16730939319872750275468906903707539413042652315011']\n",
    ",['94809377245048795150954100921645863754710598436791']\n",
    ",['78639167021187492431995700641917969777599028300699']\n",
    ",['15368713711936614952811305876380278410754449733078']\n",
    ",['40789923115535562561142322423255033685442488917353']\n",
    ",['44889911501440648020369068063960672322193204149535']\n",
    ",['41503128880339536053299340368006977710650566631954']\n",
    ",['81234880673210146739058568557934581403627822703280']\n",
    ",['82616570773948327592232845941706525094512325230608']\n",
    ",['22918802058777319719839450180888072429661980811197']\n",
    ",['77158542502016545090413245809786882778948721859617']\n",
    ",['72107838435069186155435662884062257473692284509516']\n",
    ",['20849603980134001723930671666823555245252804609722']\n",
    ",['53503534226472524250874054075591789781264330331690']]"
   ]
  },
  {
   "cell_type": "code",
   "execution_count": null,
   "metadata": {},
   "outputs": [],
   "source": [
    "#Q14: Collatz theorem says that for some number n: f(n) = {n / 2 | n is even; 3 * n + 1 | n is odd} -> n\n",
    "#Ex: 13 -> 40 -> 20 -> 10 -> 5 -> 16 -> 8 -> 4 -> 2 -> 1\n",
    "#What is the longest chain produced for some n < 1,000,000"
   ]
  },
  {
   "cell_type": "code",
   "execution_count": null,
   "metadata": {},
   "outputs": [],
   "source": [
    "#Q15: In a 2x2 grid there are 6 routes from one corner to the opposite; how many routes are in a 20x20 grid?"
   ]
  },
  {
   "cell_type": "code",
   "execution_count": null,
   "metadata": {},
   "outputs": [],
   "source": [
    "#Q16: What are the sum of the digits of 2**1000"
   ]
  },
  {
   "cell_type": "code",
   "execution_count": null,
   "metadata": {},
   "outputs": [],
   "source": [
    "#Q17: If all the numbers 1 to 1000 were written out in words, how may letters would be used?"
   ]
  },
  {
   "cell_type": "code",
   "execution_count": 23,
   "metadata": {},
   "outputs": [],
   "source": [
    "#Q18: What is the largest sum moving down the provided triangle\n",
    "\n",
    "m=[['75']\n",
    ",['95','64']\n",
    ",['17','47','82']\n",
    ",['18','35','87','10']\n",
    ",['20','04','82','47','65']\n",
    ",['19','01','23','75','03','34']\n",
    ",['88','02','77','73','07','63','67']\n",
    ",['99','65','04','28','06','16','70','92']\n",
    ",['41','41','26','56','83','40','80','70','33']\n",
    ",['41','48','72','33','47','32','37','16','94','29']\n",
    ",['53','71','44','65','25','43','91','52','97','51','14']\n",
    ",['70','11','33','28','77','73','17','78','39','68','17','57']\n",
    ",['91','71','52','38','17','14','91','43','58','50','27','29','48']\n",
    ",['63','66','04','68','89','53','67','30','73','16','69','87','40','31']\n",
    ",['04','62','98','27','23','09','70','98','73','93','38','53','60','04','23']]"
   ]
  },
  {
   "cell_type": "code",
   "execution_count": null,
   "metadata": {},
   "outputs": [],
   "source": [
    "#Q19: How many Sundays fell on the first of the month during the twentieth century (1 Jan 1901 to 31 Dec 2000)?\n",
    "# Recall: a leap year occurs on any year evenly divisible by 4, but not on a century unless it is divisible by 400"
   ]
  },
  {
   "cell_type": "code",
   "execution_count": null,
   "metadata": {},
   "outputs": [],
   "source": [
    "#Q20: Find the sum of the digits of 100!"
   ]
  },
  {
   "cell_type": "code",
   "execution_count": null,
   "metadata": {},
   "outputs": [],
   "source": [
    "#Q21: Let d(n) be the sum of all divisors of n; \n",
    "#then let a pair of amicable numbers [a,b] be numbers such that d(a) = b and d(b) = n\n",
    "#Evaluate the sum of all amicable numbers under 10000"
   ]
  },
  {
   "cell_type": "code",
   "execution_count": null,
   "metadata": {},
   "outputs": [],
   "source": [
    "#Q22: Using the names.txt file; and sorting alphabetically by name, evaulate a name score for each row\n",
    "#where the name score is the numeric value of all letters of the name multiplied by its location in the file"
   ]
  },
  {
   "cell_type": "code",
   "execution_count": null,
   "metadata": {},
   "outputs": [],
   "source": [
    "#Q23: A perfect number is n such that the sum of all divisors equals n\n",
    "#A deficient number is such that the sum is less than n, and an abundant is greater than n\n",
    "#Find the sum of all abundant numbers that cannot be expressed as the sum of two other abundant numbers\n",
    "#It can be proven that all abundant numbers larger than 28123 can be expressed as the sum of two other abundant numbers"
   ]
  },
  {
   "cell_type": "code",
   "execution_count": null,
   "metadata": {},
   "outputs": [],
   "source": [
    "#Q24: What is the millionth lexographic permutation of the digits 0,1,2,3,4,5,6,7,8,9"
   ]
  },
  {
   "cell_type": "code",
   "execution_count": 25,
   "metadata": {},
   "outputs": [
    {
     "data": {
      "text/plain": [
       "[1, 1]"
      ]
     },
     "execution_count": 25,
     "metadata": {},
     "output_type": "execute_result"
    }
   ],
   "source": [
    "#Q25: What is the first fibonnaci number to contain 1000 digits?\n",
    "\n",
    "f = [1]\n",
    "f.append(1)\n"
   ]
  },
  {
   "cell_type": "code",
   "execution_count": null,
   "metadata": {},
   "outputs": [],
   "source": []
  }
 ],
 "metadata": {
  "kernelspec": {
   "display_name": "Python 3",
   "language": "python",
   "name": "python3"
  },
  "language_info": {
   "codemirror_mode": {
    "name": "ipython",
    "version": 3
   },
   "file_extension": ".py",
   "mimetype": "text/x-python",
   "name": "python",
   "nbconvert_exporter": "python",
   "pygments_lexer": "ipython3",
   "version": "3.7.3"
  }
 },
 "nbformat": 4,
 "nbformat_minor": 4
}
